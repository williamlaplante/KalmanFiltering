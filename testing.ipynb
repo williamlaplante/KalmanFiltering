{
 "cells": [
  {
   "cell_type": "code",
   "execution_count": 9,
   "metadata": {},
   "outputs": [],
   "source": [
    "from filterpy.kalman import KalmanFilter\n",
    "from filterpy.common import Q_discrete_white_noise\n",
    "import numpy as np\n",
    "import torch as tc\n",
    "import matplotlib.pyplot as plt\n",
    "from functools import partial\n",
    "\n",
    "from data import get_data\n",
    "from models import SIR, SIR_jac_x, obs, obs_jac_x"
   ]
  },
  {
   "cell_type": "code",
   "execution_count": 11,
   "metadata": {},
   "outputs": [],
   "source": [
    "import numpy as np\n",
    "from scipy.integrate import odeint\n",
    "\n",
    "\n",
    "def deriv(A, t, Ab):\n",
    "    return np.dot(Ab, A)\n",
    "\n",
    "\n",
    "Ab = np.array([[-0.25,    0,    0],\n",
    "               [ 0.25, -0.2,    0],\n",
    "               [    0,  0.2, -0.1]])\n",
    "\n",
    "A0 = np.array([10, 20, 30])\n",
    "\n",
    "MA = odeint(deriv, A0, time, args=(Ab,))"
   ]
  },
  {
   "cell_type": "code",
   "execution_count": 15,
   "metadata": {},
   "outputs": [
    {
     "data": {
      "text/plain": [
       "array([-2.5, -1.5,  1. ])"
      ]
     },
     "execution_count": 15,
     "metadata": {},
     "output_type": "execute_result"
    }
   ],
   "source": [
    "np.dot(Ab, A0)"
   ]
  },
  {
   "cell_type": "code",
   "execution_count": 29,
   "metadata": {},
   "outputs": [],
   "source": [
    "cases, N = get_data()\n",
    "N = N.numpy()\n",
    "cases = cases.numpy()\n",
    "I0 = np.array([1.])\n",
    "R0 = np.array([0.])\n",
    "S0 = N - I0 - R0"
   ]
  },
  {
   "cell_type": "code",
   "execution_count": 30,
   "metadata": {},
   "outputs": [],
   "source": [
    "f = KalmanFilter(dim_x=3, dim_z=1)"
   ]
  },
  {
   "cell_type": "code",
   "execution_count": 31,
   "metadata": {},
   "outputs": [],
   "source": [
    "f.x = np.array([S0, I0, R0])\n",
    "f.F = np.array([[1., 0, 0],\n",
    "                [0, 1., 0],\n",
    "                [0, 0, 1.]])\n",
    "f.H = np.array([[0, 0.1, 0]])\n",
    "f.P = np.array([[0.1, 0, 0],\n",
    "                [0, 0.1, 0],\n",
    "                [0, 0, 0.1]])\n",
    "\n",
    "f.R = np.array([[1.]])\n",
    "f.Q = np.array([[1., 0, 0],\n",
    "                [0, 1., 0],\n",
    "                [0, 0, 1.]])"
   ]
  },
  {
   "cell_type": "code",
   "execution_count": 32,
   "metadata": {},
   "outputs": [
    {
     "data": {
      "text/plain": [
       "array([[2.5e-05, 5.0e-04, 5.0e-03],\n",
       "       [5.0e-04, 1.0e-02, 1.0e-01],\n",
       "       [5.0e-03, 1.0e-01, 1.0e+00]])"
      ]
     },
     "execution_count": 32,
     "metadata": {},
     "output_type": "execute_result"
    }
   ],
   "source": [
    "Q = Q_discrete_white_noise(dim=3, dt=0.1, var=1.0)\n",
    "Q"
   ]
  },
  {
   "cell_type": "code",
   "execution_count": 33,
   "metadata": {},
   "outputs": [],
   "source": [
    "cov = []\n",
    "for z in cases:\n",
    "    f.predict()\n",
    "    f.update(z)\n",
    "    cov.append(f.S)"
   ]
  },
  {
   "cell_type": "code",
   "execution_count": 35,
   "metadata": {},
   "outputs": [
    {
     "data": {
      "text/plain": [
       "[<matplotlib.lines.Line2D at 0x7fbf78e5bd60>]"
      ]
     },
     "execution_count": 35,
     "metadata": {},
     "output_type": "execute_result"
    },
    {
     "data": {
      "image/png": "[encoded data removed]",
      "text/plain": [
       "<Figure size 432x288 with 1 Axes>"
      ]
     },
     "metadata": {
      "needs_background": "light"
     },
     "output_type": "display_data"
    }
   ],
   "source": [
    "plt.plot(np.array(cov).flatten())"
   ]
  },
  {
   "cell_type": "code",
   "execution_count": null,
   "metadata": {},
   "outputs": [],
   "source": []
  }
 ],
 "metadata": {
  "kernelspec": {
   "display_name": "Python 3.9.7 64-bit",
   "language": "python",
   "name": "python3"
  },
  "language_info": {
   "codemirror_mode": {
    "name": "ipython",
    "version": 3
   },
   "file_extension": ".py",
   "mimetype": "text/x-python",
   "name": "python",
   "nbconvert_exporter": "python",
   "pygments_lexer": "ipython3",
   "version": "3.9.7"
  },
  "orig_nbformat": 4,
  "vscode": {
   "interpreter": {
    "hash": "aee8b7b246df8f9039afb4144a1f6fd8d2ca17a180786b69acc140d282b71a49"
   }
  }
 },
 "nbformat": 4,
 "nbformat_minor": 2
}
